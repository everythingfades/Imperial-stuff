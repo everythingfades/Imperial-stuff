{
 "cells": [
  {
   "cell_type": "markdown",
   "id": "b478849a",
   "metadata": {},
   "source": [
    "#  Problem1\n",
    "\n",
    "$\\begin{table}\n",
    "A & B & C & D & E & X\\\\\n",
    "0 & 0 & 1 & 1 & 1 & 0\\\\\n",
    "0 & 1 & 1 & 1 & 0 & 1\\\\\n",
    "1 & 0 & 1 & 0 & 1 & 1\\\\\n",
    "1 & 1 & 0 & 1 & 1 & 0\n",
    "\\end{table}$\n",
    "\n",
    "# Problem2\n",
    "\n",
    "\n",
    "# Problem3\n",
    "\n",
    "put two not in the line between (A and D) and (B and E)\n",
    "\n",
    "#"
   ]
  }
 ],
 "metadata": {
  "kernelspec": {
   "display_name": "Python 3 (ipykernel)",
   "language": "python",
   "name": "python3"
  },
  "language_info": {
   "codemirror_mode": {
    "name": "ipython",
    "version": 3
   },
   "file_extension": ".py",
   "mimetype": "text/x-python",
   "name": "python",
   "nbconvert_exporter": "python",
   "pygments_lexer": "ipython3",
   "version": "3.11.5"
  },
  "toc": {
   "base_numbering": 1,
   "nav_menu": {},
   "number_sections": true,
   "sideBar": true,
   "skip_h1_title": false,
   "title_cell": "Table of Contents",
   "title_sidebar": "Contents",
   "toc_cell": false,
   "toc_position": {},
   "toc_section_display": true,
   "toc_window_display": false
  },
  "varInspector": {
   "cols": {
    "lenName": 16,
    "lenType": 16,
    "lenVar": 40
   },
   "kernels_config": {
    "python": {
     "delete_cmd_postfix": "",
     "delete_cmd_prefix": "del ",
     "library": "var_list.py",
     "varRefreshCmd": "print(var_dic_list())"
    },
    "r": {
     "delete_cmd_postfix": ") ",
     "delete_cmd_prefix": "rm(",
     "library": "var_list.r",
     "varRefreshCmd": "cat(var_dic_list()) "
    }
   },
   "types_to_exclude": [
    "module",
    "function",
    "builtin_function_or_method",
    "instance",
    "_Feature"
   ],
   "window_display": false
  }
 },
 "nbformat": 4,
 "nbformat_minor": 5
}
