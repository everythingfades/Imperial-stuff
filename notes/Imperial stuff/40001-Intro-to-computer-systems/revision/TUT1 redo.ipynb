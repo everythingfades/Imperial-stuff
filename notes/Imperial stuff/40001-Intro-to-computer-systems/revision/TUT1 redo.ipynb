{
 "cells": [
  {
   "cell_type": "markdown",
   "id": "9bbd1af8",
   "metadata": {},
   "source": [
    "# 2:\n",
    "$\\begin{array}{c}\n",
    "ABC & A+B+C & (A+B+C)' & A' & B' & C' & A'\\bullet B'\\bullet C'\\\\\n",
    "000 & 0 & 1 & 1 & 1 & 1 & 1\\\\\n",
    "001 & 1 & 0 & 1 & 1 & 0 & 0\\\\\n",
    "010 & 1 & 0 & 1 & 0 & 1 & 0\\\\\n",
    "011 & 1 & 0 & 1 & 0 & 0 & 0\\\\\n",
    "100 & 1 & 0 & 0 & 1 & 1 & 0\\\\\n",
    "101 & 1 & 0 & 0 & 1 & 0 & 0\\\\\n",
    "110 & 1 & 0 & 0 & 0 & 1 & 0\\\\\n",
    "111 & 1 & 0 & 0 & 0 & 0 & 0\\\\\n",
    "\\end{array}$"
   ]
  }
 ],
 "metadata": {
  "hide_input": false,
  "kernelspec": {
   "display_name": "Python 3 (ipykernel)",
   "language": "python",
   "name": "python3"
  },
  "language_info": {
   "codemirror_mode": {
    "name": "ipython",
    "version": 3
   },
   "file_extension": ".py",
   "mimetype": "text/x-python",
   "name": "python",
   "nbconvert_exporter": "python",
   "pygments_lexer": "ipython3",
   "version": "3.9.18"
  },
  "toc": {
   "base_numbering": 1,
   "nav_menu": {},
   "number_sections": true,
   "sideBar": true,
   "skip_h1_title": false,
   "title_cell": "Table of Contents",
   "title_sidebar": "Contents",
   "toc_cell": false,
   "toc_position": {},
   "toc_section_display": true,
   "toc_window_display": false
  }
 },
 "nbformat": 4,
 "nbformat_minor": 5
}
