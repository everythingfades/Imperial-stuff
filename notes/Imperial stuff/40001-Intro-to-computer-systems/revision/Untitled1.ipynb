{
 "cells": [
  {
   "cell_type": "markdown",
   "id": "4fe13dd8",
   "metadata": {},
   "source": [
    "# 1:\n",
    "## a:\n",
    "we could use a one-input flipflop to store one bit information\n",
    "\n",
    "we would need to connect multiple memories in parallel\n",
    "\n",
    "a combinational circuit since we need to have access to all the memories that are not sequential\n",
    "\n",
    "## b:\n",
    "0000 0000|0000|0000 0000 0000 0000 0000\n",
    "\n",
    "so we have a mask block with 32 wires in and 20 wires out, this does not need any gates\n",
    "\n",
    "the disadvantage of this design choice is that the circuit afterwards would not be able to use the opcode and \n",
    "\n",
    "## c:\n",
    "$\\begin{array}{c}\n",
    "\\text{Instruction} & \\text{Cycle} & \\text{Transfers} & \\text{Path} & \\text{other}\\\\\n",
    "\\text{Load Rdest, Address} & E1 & MAR\\leftarrow MDR & \\text{Use MASK} & \\text{this is for passing the address to the memory}\\\\\n",
    " & E2 & MDR\\leftarrow Memory & &\\text{this is for loading the data}\\\\\n",
    " & E3 & Rdest\\leftarrow MDR & \\text{No MASK} & \\text{this is just loading the data to Rdest}\\\\\n",
    " \\hline\n",
    " \\text{STORE Rdest, Address} & E1 & A\\leftarrow Rdest; MDR\\leftarrow MAR & \\text{Use MASK}& \\text{this is for storing data}\\\\\n",
    " & E2 & Memory\\leftarrow A & &\\text{store the data}\\\\\n",
    " \\hline\n",
    " \\text{Jump Address} & E1 & PC \\leftarrow MDR & \\text{Use MASK}\\\\\n",
    " \\hline\n",
    " \\text{Call Rdest, Address} & E1 & PC\\leftarrow PC+1 &  & \\text{increment the program counter}\\\\\n",
    " & E2 & MDR\\leftarrow PC & &\\text{this is for loading the data}\\\\\n",
    " & E3 & PC\\leftarrow MDR & \\text{No MASK} & \\text{this is just loading the data to Rdest}\\\\\n",
    " \\end{array}$"
   ]
  },
  {
   "cell_type": "code",
   "execution_count": null,
   "id": "661e1576",
   "metadata": {},
   "outputs": [],
   "source": []
  }
 ],
 "metadata": {
  "hide_input": false,
  "kernelspec": {
   "display_name": "Python 3 (ipykernel)",
   "language": "python",
   "name": "python3"
  },
  "language_info": {
   "codemirror_mode": {
    "name": "ipython",
    "version": 3
   },
   "file_extension": ".py",
   "mimetype": "text/x-python",
   "name": "python",
   "nbconvert_exporter": "python",
   "pygments_lexer": "ipython3",
   "version": "3.9.18"
  },
  "toc": {
   "base_numbering": 1,
   "nav_menu": {},
   "number_sections": true,
   "sideBar": true,
   "skip_h1_title": false,
   "title_cell": "Table of Contents",
   "title_sidebar": "Contents",
   "toc_cell": false,
   "toc_position": {},
   "toc_section_display": true,
   "toc_window_display": false
  }
 },
 "nbformat": 4,
 "nbformat_minor": 5
}
