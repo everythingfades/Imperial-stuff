{
 "cells": [
  {
   "cell_type": "markdown",
   "id": "14b3b759",
   "metadata": {},
   "source": [
    "# problem1:\n",
    "$\\begin{array}{c}\n",
    "\\text{State} & \\text{Data In} & IR7 & IR6 & IR5 & IR4 & IR3 & IR2 & IR1 & IR0 & \\text{Usage}\\\\\n",
    "1 & \\text{x000x1x0} & x & x & x & x & x & x & x & x & \\text{load IR}\\\\\n",
    "2 & \\text{Number} & x & 0 & 0 & 0 & x & 1 & x & 0 & \\text{clear A}\\\\\n",
    "3 & \\text{Number} & x & 0 & 0 & 0 & x & 1 & x & 0 & \\text{load B}\\\\\n",
    "4 & \\text{x000x10x} & x & 0 & 0 & 0 & x & x & x & x & \\text{load IR}\\\\\n",
    "5 & \\text{xxxxxxxx} & x & 0 & 0 & 0 & x & 1 & 0 & x & \\text{carry = 1, A+B}\\\\\n",
    "\\end{array}$"
   ]
  },
  {
   "cell_type": "markdown",
   "id": "f555628c",
   "metadata": {},
   "source": [
    "# problem 2:\n",
    "$\\begin{array}{c}\n",
    "\\text{State} & \\text{Data In} & IR7 & IR6 & IR5 & IR4 & IR3 & IR2 & IR1 & IR0 & \\text{Usage}\\\\\n",
    "1 & \\text{x000xxx1} & x & x & x & x & x & x & x & x & \\text{load IR}\\\\\n",
    "2 & \\text{Number} & x & 0 & 0 & 0 & x & x & x & 1 & \\text{load A}\\\\\n",
    "3 & \\text{Number} & x & 0 & 0 & 0 & x & x & x & 1 & \\text{load B}\\\\\n",
    "4 & \\text{x000x10x} & x & 0 & 0 & 0 & x & x & x & 1 & \\text{load IR}\\\\\n",
    "5 & \\text{xxxxxxxx} & x & 0 & 1 & 1 & x & 1 & 1 & x & \\text{carry = 0, A+B}\\\\\n",
    "\\hline\\\\\n",
    "1 & \\text{x000x1x0} & x & x & x & x & x & x & x & x & \\text{load IR}\\\\\n",
    "2 & \\text{Number} & x & 0 & 0 & 0 & x & 1 & x & 0 & \\text{clear A}\\\\\n",
    "3 & \\text{Number} & x & 0 & 0 & 0 & x & 1 & x & 0 & \\text{load B}\\\\\n",
    "4 & \\text{x000x10x} & x & 0 & 0 & 0 & x & x & x & 0 & \\text{load IR}\\\\\n",
    "5 & \\text{xxxxxxxx} & x & 1 & 1 & 0 & x & 0 & x & 1 & \\text{carry = 0, A+B}\\\\\n",
    "\\end{array}$"
   ]
  }
 ],
 "metadata": {
  "hide_input": false,
  "kernelspec": {
   "display_name": "Python 3 (ipykernel)",
   "language": "python",
   "name": "python3"
  },
  "language_info": {
   "codemirror_mode": {
    "name": "ipython",
    "version": 3
   },
   "file_extension": ".py",
   "mimetype": "text/x-python",
   "name": "python",
   "nbconvert_exporter": "python",
   "pygments_lexer": "ipython3",
   "version": "3.9.18"
  },
  "toc": {
   "base_numbering": 1,
   "nav_menu": {},
   "number_sections": false,
   "sideBar": true,
   "skip_h1_title": false,
   "title_cell": "Table of Contents",
   "title_sidebar": "Contents",
   "toc_cell": false,
   "toc_position": {},
   "toc_section_display": true,
   "toc_window_display": false
  }
 },
 "nbformat": 4,
 "nbformat_minor": 5
}
